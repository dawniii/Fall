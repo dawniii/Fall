{
 "cells": [
  {
   "cell_type": "markdown",
   "id": "20fff753",
   "metadata": {},
   "source": [
    "## tFall数据集介绍"
   ]
  },
  {
   "cell_type": "markdown",
   "id": "5e0d530b",
   "metadata": {},
   "source": [
    "### Subjects"
   ]
  },
  {
   "cell_type": "markdown",
   "id": "60fa31de",
   "metadata": {},
   "source": [
    "<font size=4>十名志愿者，包括7名男性和3名女性。年龄范围：20-42岁，体重：50-98公斤 （kg) ，身高1.61-1.84米。</font>"
   ]
  },
  {
   "cell_type": "markdown",
   "id": "616af7f0",
   "metadata": {},
   "source": [
    "### Falls "
   ]
  },
  {
   "cell_type": "markdown",
   "id": "ff01c186",
   "metadata": {},
   "source": [
    "- <font size=4>8种类型的跌倒:先前跌倒、向后跌倒、向左跌倒、向右跌倒、晕厥、坐在空椅子上、使用补偿策略防止撞击的跌倒、在落地前接触到障碍物的跌倒。</font>  \n",
    "- <font size=4>每种跌倒类型模拟3次，每个志愿者共模拟24次跌倒。  </font> \n",
    "- <font size=4>自愿者将智能手机放在两个口袋(左和右)至少一周，共获取503条记录（由于一些技术原因，一些跌倒不得不在少数情况下重复，因此这个数字高于24x2x10）。   </font> \n",
    "- <font size=4>同时，放置两个智能手机在两个手提袋中至少一周，共获取523条记录。</font> "
   ]
  },
  {
   "cell_type": "markdown",
   "id": "f19e64bd",
   "metadata": {},
   "source": [
    "### ADL"
   ]
  },
  {
   "cell_type": "markdown",
   "id": "15bf2155",
   "metadata": {},
   "source": [
    "- <font size=4>ADL 研究是在现实生活条件下进行的。参与者将智能手机放在口袋里至少一周，以记录日常行为。</font>\n",
    "- <font size=4>每名志愿者平均采集800条日常获得记录。</font>\n",
    "- <font size=4>其中5名志愿者同时放置两个智能手机在两个手提袋中至少一周，每个人平均采集523条日常活动记录。</font>"
   ]
  },
  {
   "cell_type": "markdown",
   "id": "7f3ee80c",
   "metadata": {},
   "source": [
    "### 数据采集和处理"
   ]
  },
  {
   "cell_type": "markdown",
   "id": "f7d93e63",
   "metadata": {},
   "source": [
    "- <font size=4>加速度信号由三星 Galaxy Mini内置的加速度计进行采集,采样频率不稳定，约为45±12HZ。</font> \n",
    "- <font size=4>每个ADL和Fall都被转换为一个向量，即一条记录。</font> \n",
    "- <font size=4>在日常生活监测中，每当检测到加速度幅度的峰值高于1.5h( g= 重力加速度），一个新记录被附加到文件中。围绕峰值时间窗口为6s的数据为一条记录。</font>\n",
    "- <font size=4>跌倒数据的一条记录由当采样频率为51时，围绕峰值的51个加速度值组成。</font>\n",
    "- <font size=4>本实验采用1号志愿者的数据，采集自放在口袋里的智能手机。</font>"
   ]
  },
  {
   "cell_type": "code",
   "execution_count": 4,
   "id": "4c1e9be1",
   "metadata": {},
   "outputs": [
    {
     "name": "stdout",
     "output_type": "stream",
     "text": [
      "(2787, 301)\n",
      "(929, 301)\n",
      "(929, 301)\n",
      "(929, 301)\n",
      "(153, 301)\n",
      "(51, 301)\n",
      "(51, 301)\n",
      "(51, 301)\n"
     ]
    }
   ],
   "source": [
    "import numpy as np\n",
    "import matplotlib.pyplot as plt\n",
    "import pandas as pd\n",
    "adlV=np.loadtxt('E:/Fall/tFall/data/publicFallDetector201307/data201307/person0/adlProcessedVector/0adlPV.dat')\n",
    "adl_accx=adlV[0::3,:] #contains the x-axis\n",
    "adl_accy=adlV[1::3,:] #contains the y-axis\n",
    "adl_accz=adlV[2::3,:]\n",
    "print(adlV.shape)\n",
    "print(adl_accx.shape)\n",
    "print(adl_accy.shape)\n",
    "print(adl_accz.shape)\n",
    "fallV=np.loadtxt('E:/Fall/tFall/data/publicFallDetector201307/data201307/person0/fallProcessedVector/0fallPV.dat')\n",
    "fall_accx=fallV[0::3,:]\n",
    "fall_accy=fallV[1::3,:]\n",
    "fall_accz=fallV[2::3,:]\n",
    "print(fallV.shape)\n",
    "print(fall_accx.shape)\n",
    "print(fall_accy.shape)\n",
    "print(fall_accz.shape)"
   ]
  },
  {
   "cell_type": "code",
   "execution_count": 8,
   "id": "4c78e422",
   "metadata": {},
   "outputs": [
    {
     "name": "stdout",
     "output_type": "stream",
     "text": [
      "(980, 301, 3)\n",
      "(980, 2)\n"
     ]
    }
   ],
   "source": [
    "segments=[]\n",
    "labels=[]\n",
    "for i in range(len(adl_accx)):\n",
    "    x=adl_accx[i].reshape(-1,1)\n",
    "    y=adl_accy[i].reshape(-1,1)\n",
    "    z=adl_accz[i].reshape(-1,1)\n",
    "    all=np.hstack((x,y,z))\n",
    "    segments.append(all)\n",
    "    labels.append(0)\n",
    "for i in range(len(fall_accx)):\n",
    "    x=fall_accx[i].reshape(-1,1)\n",
    "    y=fall_accy[i].reshape(-1,1)\n",
    "    z=fall_accz[i].reshape(-1,1)\n",
    "    all=np.hstack((x,y,z))\n",
    "    segments.append(all)\n",
    "    labels.append(1)\n",
    "labels=np.asarray(pd.get_dummies(labels),dtype=np.float32)#是利用pandas实现one hot encode的方式。\n",
    "reshaped_segments=np.asarray(segments)\n",
    "print(reshaped_segments.shape)\n",
    "print(labels.shape)"
   ]
  },
  {
   "cell_type": "markdown",
   "id": "8306fad3",
   "metadata": {},
   "source": [
    "### 评估指标"
   ]
  },
  {
   "cell_type": "markdown",
   "id": "3fc3c7b4",
   "metadata": {},
   "source": [
    "#### -------------1-------------\n",
    "- K fold  TCN acc:98.1651%\n",
    "- K fold average TCN loss: 6.3875%\n",
    "- K fold tn: 310\n",
    "- K fold fp: 1\n",
    "- K fold fn: 5\n",
    "- K fold tp: 11\n",
    "- K fold Accuracy: 0.981651376146789\n",
    "- K fold precision: 0.9166666666666666\n",
    "- K fold recall: 0.6875\n",
    "#### -------------2-------------\n",
    "- K fold  TCN acc:97.8593%\n",
    "- K fold average TCN loss: 11.5074%\n",
    "- K fold tn: 307\n",
    "- K fold fp: 0\n",
    "- K fold fn: 7\n",
    "- K fold tp: 13\n",
    "- K fold Accuracy: 0.9785932721712538\n",
    "- K fold precision: 1.0\n",
    "- K fold recall: 0.65\n",
    "#### -------------3-------------\n",
    "- K fold  TCN acc:98.4663%\n",
    "- K fold average TCN loss: 3.7950%\n",
    "- K fold tn: 310\n",
    "- K fold fp: 1\n",
    "- K fold fn: 4\n",
    "- K fold tp: 11\n",
    "- K fold Accuracy: 0.9846625766871165\n",
    "- K fold precision: 0.9166666666666666\n",
    "- K fold recall: 0.7333333333333333\n",
    "#### 平均\n",
    "- K fold  TCN acc:98.4663%\n",
    "- K fold  TCN loss: 3.7950%\n",
    "- K fold average Accuracy: 0.9816357416683864\n",
    "- K fold average precision: 0.9444444444444443\n",
    "- K fold average recall: 0.6902777777777778"
   ]
  },
  {
   "cell_type": "code",
   "execution_count": null,
   "id": "c6eb5f20",
   "metadata": {},
   "outputs": [],
   "source": []
  },
  {
   "cell_type": "code",
   "execution_count": null,
   "id": "75aded53",
   "metadata": {},
   "outputs": [],
   "source": []
  },
  {
   "cell_type": "code",
   "execution_count": null,
   "id": "99845902",
   "metadata": {},
   "outputs": [],
   "source": []
  }
 ],
 "metadata": {
  "kernelspec": {
   "display_name": "Python 3 (ipykernel)",
   "language": "python",
   "name": "python3"
  },
  "language_info": {
   "codemirror_mode": {
    "name": "ipython",
    "version": 3
   },
   "file_extension": ".py",
   "mimetype": "text/x-python",
   "name": "python",
   "nbconvert_exporter": "python",
   "pygments_lexer": "ipython3",
   "version": "3.9.7"
  }
 },
 "nbformat": 4,
 "nbformat_minor": 5
}
