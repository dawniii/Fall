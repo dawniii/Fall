{
 "cells": [
  {
   "cell_type": "markdown",
   "id": "693ef6c0",
   "metadata": {},
   "source": [
    "### UMAFall数据集介绍"
   ]
  },
  {
   "cell_type": "markdown",
   "id": "79f6e199",
   "metadata": {},
   "source": [
    "<font size=4>16名年龄在23至50岁之间的男性和女性受试者收集数据，并由一名观察者进行手动注释。它总共包含了大约4.5小时的注释活动，包括坐、站、走、跑、跳、摔到和躺。</font>"
   ]
  },
  {
   "cell_type": "markdown",
   "id": "e3f3e10c",
   "metadata": {},
   "source": [
    "- <font size=4>整个数据集包括 746 个文件。</font>  \n",
    "- <font size=4>样本包括 9 种不同类型的 ADL 和 3 种不同类型的跌倒。  </font>  \n",
    "- <font size=4>ADL：1) 正常步行，2) 轻慢慢跑，3) 身体弯曲，4) 跳跃，5) 爬楼梯（上），6）爬楼梯（下），7）躺下和起身床，8）坐在（从）椅子上。   </font>  \n",
    "- <font size=4>Fall（在床垫上）：1）横向，2）正面 3）向后）</font> "
   ]
  },
  {
   "cell_type": "markdown",
   "id": "3eb967b8",
   "metadata": {},
   "source": [
    "- <font size=4>% TimeStamp; Sample No; X-Axis; Y-Axis; Z-Axis; Sensor Type; Sensor ID;     </font>       \n",
    "- <font size=4>自实验开始以来的时间（以ms为单位）</font>   \n",
    "- <font size=4>样本的数量（对于相同的传感器和节点）</font>   \n",
    "- <font size=4>描述三轴传感器（x 轴、y 轴和 z 轴）测量值的三个实数。单位是 g、° /s 或µT ，具体取决于测量是分别由加速度计、陀螺仪还是磁力计执行的。</font>   \n",
    "- <font size=4>一个整数（0、1 或 2），描述传感器类型（加速度计 = 0，陀螺仪 = 1，磁力计 = 2）</font>   \n",
    "- <font size=4>一个整数（从 0 到 4）通知传感节点（此数字代码与蓝牙 MAC 地址和微尘位置之间的对应关系在文件头中描述）。</font>   "
   ]
  },
  {
   "cell_type": "code",
   "execution_count": null,
   "id": "a96b4c26",
   "metadata": {},
   "outputs": [],
   "source": []
  }
 ],
 "metadata": {
  "kernelspec": {
   "display_name": "Python 3 (ipykernel)",
   "language": "python",
   "name": "python3"
  },
  "language_info": {
   "codemirror_mode": {
    "name": "ipython",
    "version": 3
   },
   "file_extension": ".py",
   "mimetype": "text/x-python",
   "name": "python",
   "nbconvert_exporter": "python",
   "pygments_lexer": "ipython3",
   "version": "3.9.7"
  }
 },
 "nbformat": 4,
 "nbformat_minor": 5
}
